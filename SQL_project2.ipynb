{
 "cells": [
  {
   "cell_type": "markdown",
   "id": "27e5f60a",
   "metadata": {},
   "source": [
    "# SQL PROJECT- MUSIC STORE DATA ANALYSIS"
   ]
  },
  {
   "cell_type": "code",
   "execution_count": null,
   "id": "92cf4fd1",
   "metadata": {},
   "outputs": [],
   "source": [
    "import pandas as pd\n",
    "from sqlalchemy import create_engine\n",
    "import mysql.connector\n",
    "\n",
    "pd.set_option(\"display.width\", 1000)"
   ]
  },
  {
   "cell_type": "code",
   "execution_count": 63,
   "id": "a8fe5496",
   "metadata": {},
   "outputs": [],
   "source": [
    "album = pd.read_csv(r\"D:\\SQL\\SQL Project 2\\music store data\\album.csv\")\n",
    "artist = pd.read_csv(r\"D:\\SQL\\SQL Project 2\\music store data\\artist.csv\")\n",
    "customers = pd.read_csv(r\"D:\\SQL\\SQL Project 2\\music store data\\customers.csv\")\n",
    "employee = pd.read_csv(r\"D:\\SQL\\SQL Project 2\\music store data\\employee.csv\")\n",
    "genre = pd.read_csv(r\"D:\\SQL\\SQL Project 2\\music store data\\genre.csv\")\n",
    "invoice = pd.read_csv(r\"D:\\SQL\\SQL Project 2\\music store data\\invoice.csv\")\n",
    "invoice_line = pd.read_csv(r\"D:\\SQL\\SQL Project 2\\music store data\\invoice_line.csv\")\n",
    "media_type = pd.read_csv(r\"D:\\SQL\\SQL Project 2\\music store data\\media_type.csv\")\n",
    "playlist = pd.read_csv(r\"D:\\SQL\\SQL Project 2\\music store data\\playlist.csv\")\n",
    "playlist_track = pd.read_csv(r\"D:\\SQL\\SQL Project 2\\music store data\\playlist_track.csv\")\n",
    "track = pd.read_csv(r\"D:\\SQL\\SQL Project 2\\music store data\\track.csv\")"
   ]
  },
  {
   "cell_type": "code",
   "execution_count": 3,
   "id": "0f540b95",
   "metadata": {},
   "outputs": [],
   "source": [
    "db_user = \"root\"         \n",
    "db_password = \"1111\"  \n",
    "db_host = \"localhost\"    \n",
    "db_name = \"MusicDB\" \n",
    "\n",
    "engine = create_engine(f\"mysql+mysqlconnector://{db_user}:{db_password}@{db_host}/{db_name}\")"
   ]
  },
  {
   "cell_type": "code",
   "execution_count": null,
   "id": "4e67ad92",
   "metadata": {},
   "outputs": [
    {
     "data": {
      "text/plain": [
       "9"
      ]
     },
     "execution_count": 66,
     "metadata": {},
     "output_type": "execute_result"
    }
   ],
   "source": [
    "artist.to_sql(\"artist\", con=engine, if_exists=\"append\", index=False)\n",
    "\n",
    "album.to_sql(\"album\", con=engine, if_exists=\"append\", index=False)\n",
    "\n",
    "media_type.to_sql(\"mediatype\", con=engine, if_exists=\"append\", index=False)\n",
    "\n",
    "genre.to_sql(\"genre\", con=engine, if_exists=\"append\", index=False)\n",
    "\n",
    "track.to_sql(\"track\", con=engine, if_exists=\"append\", index=False)\n",
    "\n",
    "playlist.to_sql(\"playlist\", con=engine, if_exists=\"append\", index=False)\n",
    "\n",
    "playlist_track.to_sql(\"playlisttrack\", con=engine, if_exists=\"append\", index=False)\n",
    "\n",
    "employee.to_sql(\"employee\", con=engine, if_exists=\"append\", index=False)\n",
    "\n",
    "customers.to_sql(\"customers\", con=engine, if_exists=\"append\", index=False)\n",
    "\n",
    "invoice.to_sql(\"invoice\", con=engine, if_exists=\"append\", index=False)\n",
    "\n",
    "invoice_line.to_sql(\"invoiceline\", con=engine, if_exists=\"append\", index=False)\n"
   ]
  },
  {
   "cell_type": "code",
   "execution_count": 12,
   "id": "97b5e9b3",
   "metadata": {},
   "outputs": [
    {
     "name": "stdout",
     "output_type": "stream",
     "text": [
      "\n",
      "Preview of Artist table:\n",
      "   artist_id               name\n",
      "0          1              AC/DC\n",
      "1          2             Accept\n",
      "2          3          Aerosmith\n",
      "3          4  Alanis Morissette\n",
      "4          5    Alice In Chains\n",
      "\n",
      "Preview of Album table:\n",
      "   album_id                                  title  artist_id\n",
      "0         1  For Those About To Rock We Salute You          1\n",
      "1         2                      Balls to the Wall          2\n",
      "2         3                      Restless and Wild          2\n",
      "3         4                      Let There Be Rock          1\n",
      "4         5                               Big Ones          3\n",
      "\n",
      "Preview of MediaType table:\n",
      "   media_type_id                         name\n",
      "0              1              MPEG audio file\n",
      "1              2     Protected AAC audio file\n",
      "2              3  Protected MPEG-4 video file\n",
      "3              4     Purchased AAC audio file\n",
      "4              5               AAC audio file\n",
      "\n",
      "Preview of Genre table:\n",
      "   genre_id                name\n",
      "0         1                Rock\n",
      "1         2                Jazz\n",
      "2         3               Metal\n",
      "3         4  Alternative & Punk\n",
      "4         5       Rock And Roll\n",
      "\n",
      "Preview of Track table:\n",
      "   track_id                                     name  album_id  media_type_id  genre_id                                           composer  milliseconds     bytes  unit_price\n",
      "0         1  For Those About To Rock (We Salute You)         1              1         1          Angus Young, Malcolm Young, Brian Johnson        343719  11170334        0.99\n",
      "1         2                        Balls to the Wall         2              2         1                                               None        342562   5510424        0.99\n",
      "2         3                          Fast As a Shark         3              2         1  F. Baltes, S. Kaufman, U. Dirkscneider & W. Ho...        230619   3990994        0.99\n",
      "3         4                        Restless and Wild         3              2         1  F. Baltes, R.A. Smith-Diesel, S. Kaufman, U. D...        252051   4331779        0.99\n",
      "4         5                     Princess of the Dawn         3              2         1                         Deaffy & R.A. Smith-Diesel        375418   6290521        0.99\n",
      "\n",
      "Preview of Playlist table:\n",
      "   playlist_id        name\n",
      "0            1       Music\n",
      "1            2      Movies\n",
      "2            3    TV Shows\n",
      "3            4  Audiobooks\n",
      "4            5  90’s Music\n",
      "\n",
      "Preview of PlaylistTrack table:\n",
      "   playlist_id  track_id\n",
      "0            1      3402\n",
      "1            1      3389\n",
      "2            1      3390\n",
      "3            1      3391\n",
      "4            1      3392\n",
      "\n",
      "Preview of Employee table:\n",
      "   employee_id last_name first_name                title  reports_to levels  birth_date   hire_date              address      city state country postal_code              phone                fax                     email\n",
      "0            1     Adams     Andrew      General Manager           9     L6  1962-02-18  2016-08-14  11120 Jasper Ave NW  Edmonton    AB  Canada     T5K 2N1  +1 (780) 428-9482  +1 (780) 428-3457    andrew@chinookcorp.com\n",
      "1            2   Edwards      Nancy        Sales Manager           1     L4  1958-12-08  2016-05-01         825 8 Ave SW   Calgary    AB  Canada     T2P 2T3  +1 (403) 262-3443  +1 (403) 262-3322     nancy@chinookcorp.com\n",
      "2            3   Peacock       Jane  Sales Support Agent           2     L1  1973-08-29  2017-04-01        1111 6 Ave SW   Calgary    AB  Canada     T2P 5M5  +1 (403) 262-3443  +1 (403) 262-6712      jane@chinookcorp.com\n",
      "3            4      Park   Margaret  Sales Support Agent           2     L1  1947-09-19  2017-05-03     683 10 Street SW   Calgary    AB  Canada     T2P 5G3  +1 (403) 263-4423  +1 (403) 263-4289  margaret@chinookcorp.com\n",
      "4            5   Johnson      Steve  Sales Support Agent           2     L1  1965-03-03  2017-10-17         7727B 41 Ave   Calgary    AB  Canada     T3B 1Y7   1 (780) 836-9987   1 (780) 836-9543     steve@chinookcorp.com\n",
      "\n",
      "Preview of Customers table:\n",
      "   customer_id first_name    last_name                                           company                          address                 city state         country postal_code               phone                 fax                     email  support_rep_id\n",
      "0            1       Luís    Gonçalves  Embraer - Empresa Brasileira de Aeronáutica S.A.  Av. Brigadeiro Faria Lima, 2170  São José dos Campos    SP          Brazil   12227-000  +55 (12) 3923-5555  +55 (12) 3923-5566      luisg@embraer.com.br               3\n",
      "1            2     Leonie       Köhler                                              None          Theodor-Heuss-Straße 34            Stuttgart  None         Germany       70174    +49 0711 2842222                None     leonekohler@surfeu.de               5\n",
      "2            3   François     Tremblay                                              None                1498 rue Bélanger             Montréal    QC          Canada     H2G 1A7   +1 (514) 721-4711                None       ftremblay@gmail.com               3\n",
      "3            4      Bjørn       Hansen                                              None                 Ullevålsveien 14                 Oslo  None          Norway         171     +47 22 44 22 22                None     bjorn.hansen@yahoo.no               4\n",
      "4            5  František  Wichterlová                                  JetBrains s.r.o.                    Klanova 9/506               Prague  None  Czech Republic       14700    +420 2 4172 5555    +420 2 4172 5555  frantisekw@jetbrains.com               4\n",
      "\n",
      "Preview of Invoice table:\n",
      "   invoice_id  customer_id invoice_date   billing_address billing_city billing_state billing_country billing_postal_code  total\n",
      "0           1           18   2017-01-03      627 Broadway     New York            NY             USA          10012-2612  15.84\n",
      "1           2           30   2017-01-03  230 Elgin Street       Ottawa            ON          Canada             K2P 1L7   9.90\n",
      "2           3           40   2017-01-05    8, Rue Hanovre        Paris          None          France               75002   1.98\n",
      "3           4           18   2017-01-06      627 Broadway     New York            NY             USA          10012-2612   7.92\n",
      "4           5           27   2017-01-07   1033 N Park Ave       Tucson            AZ             USA               85719  16.83\n",
      "\n",
      "Preview of InvoiceLine table:\n",
      "   invoice_line_id  invoice_id  track_id  unit_price  quantity\n",
      "0                1           1      1158        0.99         1\n",
      "1                2           1      1159        0.99         1\n",
      "2                3           1      1160        0.99         1\n",
      "3                4           1      1161        0.99         1\n",
      "4                5           1      1162        0.99         1\n"
     ]
    }
   ],
   "source": [
    "import pandas as pd\n",
    "\n",
    "tables = [\"Artist\", \"Album\", \"MediaType\", \"Genre\", \"Track\", \"Playlist\", \n",
    "          \"PlaylistTrack\", \"Employee\", \"Customers\", \"Invoice\", \"InvoiceLine\"]\n",
    "\n",
    "for t in tables:\n",
    "    print(f\"\\nPreview of {t} table:\")\n",
    "    df_preview = pd.read_sql(f\"SELECT * FROM {t} LIMIT 5;\", con=engine)\n",
    "    print(df_preview)"
   ]
  },
  {
   "cell_type": "markdown",
   "id": "bd74894d",
   "metadata": {},
   "source": [
    "# Question Set 1 - Easy"
   ]
  },
  {
   "cell_type": "code",
   "execution_count": 14,
   "id": "ce0c0b26",
   "metadata": {},
   "outputs": [
    {
     "name": "stdout",
     "output_type": "stream",
     "text": [
      "  first_name last_name                   title\n",
      "0      Mohan     Madan  Senior General Manager\n"
     ]
    }
   ],
   "source": [
    "# Who is the senior most employee based on job title?\n",
    "\n",
    "EMP_table = \"employee\"\n",
    "df = pd.read_sql(f\"SELECT first_name, last_name, title FROM {EMP_table} ORDER BY title DESC LIMIT 1;\", con=engine)\n",
    "print(df)"
   ]
  },
  {
   "cell_type": "code",
   "execution_count": 15,
   "id": "75bac72a",
   "metadata": {},
   "outputs": [
    {
     "name": "stdout",
     "output_type": "stream",
     "text": [
      "   billing_country  country_count\n",
      "0              USA            131\n",
      "1           Canada             76\n",
      "2           Brazil             61\n",
      "3           France             50\n",
      "4          Germany             41\n",
      "5   Czech Republic             30\n",
      "6         Portugal             29\n",
      "7   United Kingdom             28\n",
      "8            India             21\n",
      "9          Ireland             13\n",
      "10           Chile             13\n",
      "11         Finland             11\n",
      "12           Spain             11\n",
      "13          Poland             10\n",
      "14         Denmark             10\n",
      "15       Australia             10\n",
      "16         Hungary             10\n",
      "17          Sweden             10\n",
      "18     Netherlands             10\n",
      "19          Norway              9\n",
      "20           Italy              9\n",
      "21         Austria              9\n",
      "22         Belgium              7\n",
      "23       Argentina              5\n"
     ]
    }
   ],
   "source": [
    "# Which countries have the most Invoices?\n",
    "\n",
    "INV_table = \"invoice\"\n",
    "df = pd.read_sql(f\"SELECT billing_country, count(billing_country) AS country_count FROM {INV_table} GROUP BY billing_country ORDER BY country_count DESC;\", con=engine)\n",
    "print(df)"
   ]
  },
  {
   "cell_type": "code",
   "execution_count": null,
   "id": "39c35e8a",
   "metadata": {},
   "outputs": [
    {
     "name": "stdout",
     "output_type": "stream",
     "text": [
      "   invoice_id  customer_id invoice_date         billing_address billing_city billing_state billing_country billing_postal_code  total\n",
      "0         183           42   2018-02-09  9, Place Louis Barthou     Bordeaux          None          France               33000  23.76\n",
      "1          92           32   2017-07-02      696 Osborne Street     Winnipeg            MB          Canada             R3L 2B9  19.80\n",
      "2          31            3   2017-02-21       1498 rue Bélanger     Montréal            QC          Canada             H2G 1A7  19.80\n"
     ]
    }
   ],
   "source": [
    "# What are the top 3 values of the total invoice?\n",
    "\n",
    "df = pd.read_sql(f\"SELECT * FROM invoice ORDER BY total DESC LIMIT 3;\", con=engine)\n",
    "print(df)"
   ]
  },
  {
   "cell_type": "code",
   "execution_count": null,
   "id": "fdd094b5",
   "metadata": {},
   "outputs": [
    {
     "name": "stdout",
     "output_type": "stream",
     "text": [
      "  billing_city  total_sales\n",
      "0       Prague       273.24\n"
     ]
    }
   ],
   "source": [
    "# Which city has the best customers? We would like to throw a promotional Music Festival in the city we made the most money. \n",
    "# Write a query that returns one city that has the highest sum of invoice totals. Return both the city name & sum of all invoice totals\n",
    "\n",
    "df = pd.read_sql(f\"SELECT billing_city, sum(total) AS total_sales FROM invoice GROUP BY billing_city ORDER BY total_sales DESC LIMIT 1;\", con=engine)\n",
    "print(df)"
   ]
  },
  {
   "cell_type": "code",
   "execution_count": 27,
   "id": "c1c0b25f",
   "metadata": {},
   "outputs": [
    {
     "name": "stdout",
     "output_type": "stream",
     "text": [
      "   customer_id first_name    last_name  total_spent\n",
      "0            5  František  Wichterlová       144.54\n"
     ]
    }
   ],
   "source": [
    "# Who is the best customer? The customer who has spent the most money will be declared the best customer.\n",
    "#  Write a query that returns the person who has spent the most money \n",
    "\n",
    "df = pd.read_sql(f\"SELECT c.customer_id, c.first_name, c.last_name, SUM(i.total) AS total_spent FROM customers c JOIN invoice i ON c.customer_id = i.customer_id GROUP BY c.customer_id, c.first_name, c.last_name ORDER BY total_spent DESC LIMIT 1;\", con=engine)\n",
    "print(df)"
   ]
  },
  {
   "cell_type": "markdown",
   "id": "35befb12",
   "metadata": {},
   "source": [
    "# Question Set 2 – Moderate"
   ]
  },
  {
   "cell_type": "code",
   "execution_count": 28,
   "id": "df53e349",
   "metadata": {},
   "outputs": [
    {
     "name": "stdout",
     "output_type": "stream",
     "text": [
      "Empty DataFrame\n",
      "Columns: [email, first_name, last_name, genre]\n",
      "Index: []\n"
     ]
    }
   ],
   "source": [
    "# Write a query to return the email, first name, last name, & Genre of all Rock Music listeners. \n",
    "# Return your list ordered alphabetically by email starting with A\n",
    "\n",
    "df = pd.read_sql(f\"\"\"SELECT DISTINCT c.email, c.first_name, c.last_name, g.name AS genre FROM customers c\n",
    "                 JOIN invoice I ON c.customer_id = i.customer_id JOIN invoice_line il ON i.invoice_id = il.invoice_id\n",
    "                 JOIN track t ON il.track_id = t.track_id JOIN genre g ON t.genre_id = g.genre_id\n",
    "                 WHERE g.name = 'Rock' ORDER BY c.email ASC;\"\"\", con=engine)\n",
    "print(df)"
   ]
  },
  {
   "cell_type": "code",
   "execution_count": 30,
   "id": "956b1b03",
   "metadata": {},
   "outputs": [
    {
     "name": "stdout",
     "output_type": "stream",
     "text": [
      "                         artist  total_tracks\n",
      "0                  Led Zeppelin           114\n",
      "1                            U2           112\n",
      "2                   Deep Purple            92\n",
      "3                   Iron Maiden            81\n",
      "4                     Pearl Jam            54\n",
      "5                     Van Halen            52\n",
      "6                         Queen            45\n",
      "7            The Rolling Stones            41\n",
      "8  Creedence Clearwater Revival            40\n",
      "9                          Kiss            35\n"
     ]
    }
   ],
   "source": [
    "#Let's invite the artists who have written the most rock music in our dataset. Write a query that returns the Artist name and \n",
    "# total track count of the top 10 rock bands\n",
    "\n",
    "df = pd.read_sql(f\"\"\"SELECT ar.name AS artist, COUNT(t.track_id) AS total_tracks FROM artist ar JOIN album al ON ar.artist_id = al.artist_id\n",
    "                JOIN track t ON al.album_id = t.album_id JOIN genre g ON t.genre_id = g.genre_id WHERE g.name = 'Rock'\n",
    "                GROUP BY ar.artist_id, ar.name ORDER BY total_tracks DESC LIMIT 10;\"\"\", con=engine)\n",
    "print(df)"
   ]
  },
  {
   "cell_type": "code",
   "execution_count": 34,
   "id": "0923f598",
   "metadata": {},
   "outputs": [
    {
     "name": "stdout",
     "output_type": "stream",
     "text": [
      "                                                  name  milliseconds\n",
      "0                               Occupation / Precipice       5286953\n",
      "1                              Through a Looking Glass       5088838\n",
      "2                          Greetings from Earth, Pt. 1       2960293\n",
      "3                              The Man With Nine Lives       2956998\n",
      "4                          Battlestar Galactica, Pt. 2       2956081\n",
      "..                                                 ...           ...\n",
      "489                                   22 Acacia Avenue        395572\n",
      "490                                  The Unforgiven II        395520\n",
      "491                                 The Shortest Straw        395389\n",
      "492  Concerto for Clarinet in A Major, K. 622: II. ...        394482\n",
      "493                                        Wicked Ways        393691\n",
      "\n",
      "[494 rows x 2 columns]\n"
     ]
    }
   ],
   "source": [
    "# Return all the track names that have a song length longer than the average song length. Return the Name and Milliseconds for each track. \n",
    "# Order by the song length with the longest songs listed first\n",
    "\n",
    "df = pd.read_sql(\"SELECT name, milliseconds FROM track WHERE milliseconds > (SELECT AVG(milliseconds) FROM track) order by milliseconds DESC;\", con=engine)\n",
    "print(df)"
   ]
  },
  {
   "cell_type": "code",
   "execution_count": null,
   "id": "5470cf5f",
   "metadata": {},
   "outputs": [],
   "source": []
  }
 ],
 "metadata": {
  "kernelspec": {
   "display_name": "Python 3",
   "language": "python",
   "name": "python3"
  },
  "language_info": {
   "codemirror_mode": {
    "name": "ipython",
    "version": 3
   },
   "file_extension": ".py",
   "mimetype": "text/x-python",
   "name": "python",
   "nbconvert_exporter": "python",
   "pygments_lexer": "ipython3",
   "version": "3.11.0"
  }
 },
 "nbformat": 4,
 "nbformat_minor": 5
}
